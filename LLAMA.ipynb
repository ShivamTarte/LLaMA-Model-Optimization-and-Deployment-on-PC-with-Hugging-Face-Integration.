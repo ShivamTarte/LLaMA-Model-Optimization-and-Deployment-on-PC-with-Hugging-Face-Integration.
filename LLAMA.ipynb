{
 "cells": [
  {
   "cell_type": "code",
   "execution_count": 1,
   "metadata": {},
   "outputs": [
    {
     "name": "stderr",
     "output_type": "stream",
     "text": [
      "c:\\Users\\Shivam\\AppData\\Local\\Programs\\Python\\Python310\\lib\\site-packages\\tqdm\\auto.py:21: TqdmWarning: IProgress not found. Please update jupyter and ipywidgets. See https://ipywidgets.readthedocs.io/en/stable/user_install.html\n",
      "  from .autonotebook import tqdm as notebook_tqdm\n"
     ]
    }
   ],
   "source": [
    "import transformers\n",
    "from transformers import LlamaForCausalLM, LlamaTokenizer\n",
    "import sentencepiece\n",
    "import torch"
   ]
  },
  {
   "cell_type": "code",
   "execution_count": 2,
   "metadata": {},
   "outputs": [],
   "source": [
    "from accelerate import infer_auto_device_map, init_empty_weights\n",
    "from transformers import AutoConfig, AutoModelForCausalLM\n",
    "\n",
    "config = AutoConfig.from_pretrained(\"D:\\ChatLLAMA\")\n",
    "with init_empty_weights():\n",
    "    model = AutoModelForCausalLM.from_config(config)"
   ]
  },
  {
   "cell_type": "code",
   "execution_count": 3,
   "metadata": {},
   "outputs": [
    {
     "name": "stderr",
     "output_type": "stream",
     "text": [
      "The model weights are not tied. Please use the `tie_weights` method before using the `infer_auto_device` function.\n"
     ]
    },
    {
     "name": "stdout",
     "output_type": "stream",
     "text": [
      "{'model.embed_tokens': 0, 'model.layers.0': 0, 'model.layers.1': 0, 'model.layers.2': 0, 'model.layers.3': 0, 'model.layers.4': 0, 'model.layers.5': 0, 'model.layers.6': 'cpu', 'model.layers.7': 'cpu', 'model.layers.8': 'cpu', 'model.layers.9': 'cpu', 'model.layers.10': 'cpu', 'model.layers.11': 'disk', 'model.layers.12': 'disk', 'model.layers.13': 'disk', 'model.layers.14': 'disk', 'model.layers.15': 'disk', 'model.layers.16': 'disk', 'model.layers.17': 'disk', 'model.layers.18': 'disk', 'model.layers.19': 'disk', 'model.layers.20': 'disk', 'model.layers.21': 'disk', 'model.layers.22': 'disk', 'model.layers.23': 'disk', 'model.layers.24': 'disk', 'model.layers.25': 'disk', 'model.layers.26': 'disk', 'model.layers.27': 'disk', 'model.layers.28': 'disk', 'model.layers.29': 'disk', 'model.layers.30': 'disk', 'model.layers.31': 'disk', 'model.norm': 'disk', 'lm_head': 'disk'}\n"
     ]
    }
   ],
   "source": [
    "from accelerate.utils import get_balanced_memory\n",
    "# device_map = infer_auto_device_map(model, no_split_module_classes=[\"BloomBlock\", \"OPTDecoderLayer\", \"LLaMADecoderLayer\", \"LlamaDecoderLayer\"], dtype=\"float16\")\n",
    "# max_memory = get_balanced_memory(\n",
    "#     model,\n",
    "#     max_memory=None,\n",
    "#     no_split_module_classes=[\"BloomBlock\", \"OPTDecoderLayer\", \"LLaMADecoderLayer\", \"LlamaDecoderLayer\"],\n",
    "#     dtype='float16',\n",
    "#     low_zero=False,\n",
    "# )\n",
    "\n",
    "device_map = infer_auto_device_map(\n",
    "    model,\n",
    "    # max_memory=max_memory,\n",
    "    no_split_module_classes=[\"BloomBlock\", \"OPTDecoderLayer\", \"LLaMADecoderLayer\", \"LlamaDecoderLayer\"],\n",
    "    dtype='float16'\n",
    ")\n",
    "print(device_map)"
   ]
  },
  {
   "cell_type": "code",
   "execution_count": 4,
   "metadata": {},
   "outputs": [],
   "source": [
    "\n",
    "tokenizer = LlamaTokenizer.from_pretrained(\"D:\\ChatLLAMA\")\n",
    "device_map[\"model.layers.10\"] = \"disk\"\n",
    "# device_map[\"model.layers.9\"] = \"disk\""
   ]
  },
  {
   "cell_type": "code",
   "execution_count": 5,
   "metadata": {},
   "outputs": [
    {
     "data": {
      "text/plain": [
       "{'model.embed_tokens': 0,\n",
       " 'model.layers.0': 0,\n",
       " 'model.layers.1': 0,\n",
       " 'model.layers.2': 0,\n",
       " 'model.layers.3': 0,\n",
       " 'model.layers.4': 0,\n",
       " 'model.layers.5': 0,\n",
       " 'model.layers.6': 'cpu',\n",
       " 'model.layers.7': 'cpu',\n",
       " 'model.layers.8': 'cpu',\n",
       " 'model.layers.9': 'cpu',\n",
       " 'model.layers.10': 'disk',\n",
       " 'model.layers.11': 'disk',\n",
       " 'model.layers.12': 'disk',\n",
       " 'model.layers.13': 'disk',\n",
       " 'model.layers.14': 'disk',\n",
       " 'model.layers.15': 'disk',\n",
       " 'model.layers.16': 'disk',\n",
       " 'model.layers.17': 'disk',\n",
       " 'model.layers.18': 'disk',\n",
       " 'model.layers.19': 'disk',\n",
       " 'model.layers.20': 'disk',\n",
       " 'model.layers.21': 'disk',\n",
       " 'model.layers.22': 'disk',\n",
       " 'model.layers.23': 'disk',\n",
       " 'model.layers.24': 'disk',\n",
       " 'model.layers.25': 'disk',\n",
       " 'model.layers.26': 'disk',\n",
       " 'model.layers.27': 'disk',\n",
       " 'model.layers.28': 'disk',\n",
       " 'model.layers.29': 'disk',\n",
       " 'model.layers.30': 'disk',\n",
       " 'model.layers.31': 'disk',\n",
       " 'model.norm': 'disk',\n",
       " 'lm_head': 'disk'}"
      ]
     },
     "execution_count": 5,
     "metadata": {},
     "output_type": "execute_result"
    }
   ],
   "source": [
    "device_map"
   ]
  },
  {
   "cell_type": "code",
   "execution_count": 6,
   "metadata": {},
   "outputs": [
    {
     "name": "stderr",
     "output_type": "stream",
     "text": [
      "Loading checkpoint shards: 100%|██████████| 2/2 [09:56<00:00, 298.41s/it]\n"
     ]
    }
   ],
   "source": [
    "model = LlamaForCausalLM.from_pretrained(\"D:\\ChatLLAMA\", device_map=device_map,torch_dtype=torch.float16, offload_state_dict = True,offload_folder=\"D:\\ChatLLAMA\" )\n",
    "# torch_dtype=torch.float16,offload_folder=\"D:\\ChatLLAMA2\""
   ]
  },
  {
   "cell_type": "code",
   "execution_count": null,
   "metadata": {},
   "outputs": [],
   "source": [
    "# stop_token_ids = [\n",
    "#     tokenizer.convert_tokens_to_ids(x) for x in [\n",
    "#         [''], ['User', ':'], ['system', ':'],\n",
    "#         [tokenizer.convert_ids_to_tokens([9427])[0], ':']\n",
    "#     ]\n",
    "# ]"
   ]
  },
  {
   "cell_type": "code",
   "execution_count": null,
   "metadata": {},
   "outputs": [],
   "source": [
    "# stop_token_ids = [torch.LongTensor(x).to(device) for x in stop_token_ids]\n",
    "# stop_token_ids\n",
    "     "
   ]
  },
  {
   "cell_type": "code",
   "execution_count": null,
   "metadata": {},
   "outputs": [],
   "source": [
    "# from transformers import StoppingCriteria, StoppingCriteriaList\n",
    "\n",
    "# # define custom stopping criteria object\n",
    "# class StopOnTokens(StoppingCriteria):\n",
    "#     def __call__(self, input_ids: torch.LongTensor, scores: torch.FloatTensor, **kwargs) -> bool:\n",
    "#         for stop_ids in stop_token_ids:\n",
    "#             if torch.eq(input_ids[0][-len(stop_ids):], stop_ids).all():\n",
    "#                 return True\n",
    "#         return False\n",
    "\n",
    "# stopping_criteria = StoppingCriteriaList([StopOnTokens()])"
   ]
  },
  {
   "cell_type": "code",
   "execution_count": null,
   "metadata": {},
   "outputs": [],
   "source": [
    "# generate_text = transformers.pipeline(\n",
    "#     model=model, tokenizer=tokenizer,\n",
    "#     return_full_text=True,  # langchain expects the full text\n",
    "#     task='text-generation',\n",
    "#     device=device,\n",
    "#     # we pass model parameters here too\n",
    "#     stopping_criteria=stopping_criteria,  # without this model will ramble\n",
    "#     temperature=0.1,  # 'randomness' of outputs, 0.0 is the min and 1.0 the max\n",
    "#     top_p=0.15,  # select from top tokens whose probability add up to 15%\n",
    "#     top_k=0,  # select from top 0 tokens (because zero, relies on top_p)\n",
    "#     max_new_tokens=256,  # max number of tokens to generate in the output\n",
    "#     repetition_penalty=1.2  # without this output begins repeating\n",
    "# )"
   ]
  },
  {
   "cell_type": "code",
   "execution_count": 10,
   "metadata": {},
   "outputs": [],
   "source": [
    "prompt = 'Q: What is the capital of USA?\\nA:'\n",
    "# input_ids = torch.Tensor(tokenizer(prompt, return_tensors=\"pt\").input_ids).clone().detach().cuda()\n",
    "input_ids = tokenizer(prompt, return_tensors=\"pt\").input_ids\n",
    "\n"
   ]
  },
  {
   "cell_type": "code",
   "execution_count": 8,
   "metadata": {},
   "outputs": [
    {
     "data": {
      "text/plain": [
       "LlamaForCausalLM(\n",
       "  (model): LlamaModel(\n",
       "    (embed_tokens): Embedding(32000, 4096, padding_idx=0)\n",
       "    (layers): ModuleList(\n",
       "      (0-31): 32 x LlamaDecoderLayer(\n",
       "        (self_attn): LlamaAttention(\n",
       "          (q_proj): Linear(in_features=4096, out_features=4096, bias=False)\n",
       "          (k_proj): Linear(in_features=4096, out_features=4096, bias=False)\n",
       "          (v_proj): Linear(in_features=4096, out_features=4096, bias=False)\n",
       "          (o_proj): Linear(in_features=4096, out_features=4096, bias=False)\n",
       "          (rotary_emb): LlamaRotaryEmbedding()\n",
       "        )\n",
       "        (mlp): LlamaMLP(\n",
       "          (gate_proj): Linear(in_features=4096, out_features=11008, bias=False)\n",
       "          (down_proj): Linear(in_features=11008, out_features=4096, bias=False)\n",
       "          (up_proj): Linear(in_features=4096, out_features=11008, bias=False)\n",
       "          (act_fn): SiLUActivation()\n",
       "        )\n",
       "        (input_layernorm): LlamaRMSNorm()\n",
       "        (post_attention_layernorm): LlamaRMSNorm()\n",
       "      )\n",
       "    )\n",
       "    (norm): LlamaRMSNorm()\n",
       "  )\n",
       "  (lm_head): Linear(in_features=4096, out_features=32000, bias=False)\n",
       ")"
      ]
     },
     "execution_count": 8,
     "metadata": {},
     "output_type": "execute_result"
    }
   ],
   "source": [
    "model.eval()"
   ]
  },
  {
   "cell_type": "code",
   "execution_count": 11,
   "metadata": {},
   "outputs": [
    {
     "name": "stdout",
     "output_type": "stream",
     "text": [
      "<s>Q: What is the capital of USA?\n",
      "A: Washington D.C.\n",
      "Q: What is the currency of USA?\n",
      "A: US D\n"
     ]
    }
   ],
   "source": [
    "generation_output = model.generate(\n",
    "    input_ids=input_ids, max_new_tokens=20\n",
    ")\n",
    "print(tokenizer.decode(generation_output[0]))"
   ]
  },
  {
   "cell_type": "code",
   "execution_count": null,
   "metadata": {},
   "outputs": [],
   "source": []
  }
 ],
 "metadata": {
  "kernelspec": {
   "display_name": "Python 3",
   "language": "python",
   "name": "python3"
  },
  "language_info": {
   "codemirror_mode": {
    "name": "ipython",
    "version": 3
   },
   "file_extension": ".py",
   "mimetype": "text/x-python",
   "name": "python",
   "nbconvert_exporter": "python",
   "pygments_lexer": "ipython3",
   "version": "3.10.11"
  },
  "orig_nbformat": 4
 },
 "nbformat": 4,
 "nbformat_minor": 2
}
